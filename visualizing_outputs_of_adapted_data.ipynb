{
 "cells": [
  {
   "cell_type": "code",
   "execution_count": 1,
   "metadata": {},
   "outputs": [
    {
     "name": "stdout",
     "output_type": "stream",
     "text": [
      "\n",
      "Loading files...\n",
      "pygame 1.9.6\n",
      "Hello from the pygame community. https://www.pygame.org/contribute.html\n",
      "\n",
      "Loading files...\n"
     ]
    }
   ],
   "source": [
    "# Adapter \n",
    "\"\"\"The code to translate Argoverse dataset to KITTI dataset format\"\"\"\n",
    "\n",
    "# Argoverse-to-KITTI Adapter\n",
    "\n",
    "# Author: Yiyang Zhou \n",
    "# Email: yiyang.zhou@berkeley.edu\n",
    "FILE_NAME_LEN = 9\n",
    "DONT_CARE = 'DontCare'\n",
    "print('\\nLoading files...')\n",
    "\n",
    "import argoverse\n",
    "from argoverse.data_loading.argoverse_tracking_loader import ArgoverseTrackingLoader\n",
    "import os\n",
    "from shutil import copyfile\n",
    "from argoverse.utils import calibration\n",
    "import json\n",
    "import numpy as np\n",
    "from argoverse.utils.calibration import CameraConfig\n",
    "from argoverse.utils.cv2_plotting_utils import draw_clipped_line_segment\n",
    "from argoverse.utils.se3 import SE3\n",
    "from argoverse.utils.transform import quat2rotmat\n",
    "import math\n",
    "import os\n",
    "from typing import Union\n",
    "import numpy as np\n",
    "import pyntcloud\n",
    "import progressbar\n",
    "from time import sleep\n",
    "import cv2\n",
    "import pygame\n",
    "import matplotlib.pyplot as plt\n",
    "import json\n",
    "from adapter import *\n"
   ]
  },
  {
   "cell_type": "markdown",
   "metadata": {},
   "source": [
    "# Visualizing the FOV mask"
   ]
  },
  {
   "cell_type": "code",
   "execution_count": 6,
   "metadata": {},
   "outputs": [
    {
     "name": "stdout",
     "output_type": "stream",
     "text": [
      "1\n"
     ]
    },
    {
     "data": {
      "image/png": "[encoded data removed]",
      "text/plain": [
       "<Figure size 432x288 with 1 Axes>"
      ]
     },
     "metadata": {
      "needs_background": "light"
     },
     "output_type": "display_data"
    }
   ],
   "source": [
    "p = '/Users/ck/data_local/argo/argoverse-tracking-kitti-format/sample/bev_FOV/000000153.png'\n",
    "import cv2\n",
    "img = cv2.imread(p, cv2.IMREAD_ANYDEPTH)\n",
    "plt.imshow(img)\n",
    "print(img[50, 200])"
   ]
  },
  {
   "cell_type": "markdown",
   "metadata": {},
   "source": [
    "# Visualizing the Vehicle mask"
   ]
  },
  {
   "cell_type": "code",
   "execution_count": 10,
   "metadata": {},
   "outputs": [
    {
     "name": "stdout",
     "output_type": "stream",
     "text": [
      "(400, 400)\n"
     ]
    },
    {
     "data": {
      "image/png": "[encoded data removed]",
      "text/plain": [
       "<Figure size 432x288 with 1 Axes>"
      ]
     },
     "metadata": {
      "needs_background": "light"
     },
     "output_type": "display_data"
    }
   ],
   "source": [
    "p = '/Users/ck/data_local/argo/argoverse-tracking-kitti-format/sample/bev_VEHICLE/000000003.png'\n",
    "import cv2\n",
    "img = cv2.imread(p, cv2.IMREAD_ANYDEPTH)\n",
    "plt.imshow(img)\n",
    "print(img.shape)"
   ]
  },
  {
   "cell_type": "markdown",
   "metadata": {},
   "source": [
    "# Visualizing the FOV mask"
   ]
  },
  {
   "cell_type": "code",
   "execution_count": 8,
   "metadata": {},
   "outputs": [
    {
     "name": "stdout",
     "output_type": "stream",
     "text": [
      "1\n"
     ]
    },
    {
     "data": {
      "image/png": "[encoded data removed]",
      "text/plain": [
       "<Figure size 432x288 with 1 Axes>"
      ]
     },
     "metadata": {
      "needs_background": "light"
     },
     "output_type": "display_data"
    }
   ],
   "source": [
    "p = '/Users/ck/data_local/argo/argoverse-tracking-kitti-format/sample/bev_DRIVABLE/000000153.png'\n",
    "import cv2\n",
    "img = cv2.imread(p, cv2.IMREAD_ANYDEPTH)\n",
    "plt.imshow(img)\n",
    "print(img[50, 200])"
   ]
  },
  {
   "cell_type": "code",
   "execution_count": null,
   "metadata": {},
   "outputs": [],
   "source": []
  },
  {
   "cell_type": "code",
   "execution_count": null,
   "metadata": {},
   "outputs": [],
   "source": []
  },
  {
   "cell_type": "code",
   "execution_count": null,
   "metadata": {},
   "outputs": [],
   "source": []
  },
  {
   "cell_type": "code",
   "execution_count": null,
   "metadata": {},
   "outputs": [],
   "source": []
  },
  {
   "cell_type": "code",
   "execution_count": null,
   "metadata": {},
   "outputs": [],
   "source": []
  }
 ],
 "metadata": {
  "kernelspec": {
   "display_name": "Python 3",
   "language": "python",
   "name": "python3"
  },
  "language_info": {
   "codemirror_mode": {
    "name": "ipython",
    "version": 3
   },
   "file_extension": ".py",
   "mimetype": "text/x-python",
   "name": "python",
   "nbconvert_exporter": "python",
   "pygments_lexer": "ipython3",
   "version": "3.6.8"
  }
 },
 "nbformat": 4,
 "nbformat_minor": 4
}
